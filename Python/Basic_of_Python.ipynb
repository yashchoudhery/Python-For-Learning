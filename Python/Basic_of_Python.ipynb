{
  "nbformat": 4,
  "nbformat_minor": 0,
  "metadata": {
    "colab": {
      "name": "Basic of Python.ipynb",
      "provenance": [],
      "authorship_tag": "ABX9TyOPm1kD2CwHoygYr2cw9lGV",
      "include_colab_link": true
    },
    "kernelspec": {
      "name": "python3",
      "display_name": "Python 3"
    },
    "language_info": {
      "name": "python"
    }
  },
  "cells": [
    {
      "cell_type": "markdown",
      "metadata": {
        "id": "view-in-github",
        "colab_type": "text"
      },
      "source": [
        "<a href=\"https://colab.research.google.com/github/yashchoudhery/Python-For-Learning/blob/main/Python/Basic_of_Python.ipynb\" target=\"_parent\"><img src=\"https://colab.research.google.com/assets/colab-badge.svg\" alt=\"Open In Colab\"/></a>"
      ]
    },
    {
      "cell_type": "markdown",
      "source": [
        "##Variables\n",
        "-number\n",
        "\n",
        "\n",
        "-string\n",
        "\n",
        "\n",
        "variable = value"
      ],
      "metadata": {
        "id": "7CoQos3gyUS-"
      }
    },
    {
      "cell_type": "code",
      "source": [
        "a=18"
      ],
      "metadata": {
        "id": "WElfaABEyho2"
      },
      "execution_count": 1,
      "outputs": []
    },
    {
      "cell_type": "code",
      "source": [
        "print(a)\n",
        "b=\"name\"\n",
        "print(b)\n",
        "c=10\n",
        "print(a+c)"
      ],
      "metadata": {
        "colab": {
          "base_uri": "https://localhost:8080/"
        },
        "id": "-FWlXcpGyi0P",
        "outputId": "9cd14686-5d10-488d-a319-caeb3c7b3d34"
      },
      "execution_count": 3,
      "outputs": [
        {
          "output_type": "stream",
          "name": "stdout",
          "text": [
            "18\n",
            "name\n",
            "28\n"
          ]
        }
      ]
    },
    {
      "cell_type": "markdown",
      "source": [
        "#Operators\n",
        "\n",
        "\n",
        "<\n",
        "\n",
        "(>)\n",
        "\n",
        "-\n",
        "\n",
        "/\n",
        "\n",
        "+\n",
        "\n",
        "%\n",
        "\n",
        "*\n",
        "\n",
        "\n",
        "\n"
      ],
      "metadata": {
        "id": "KfpdSRxzz9BW"
      }
    },
    {
      "cell_type": "code",
      "source": [
        "print(a,b\n",
        ")"
      ],
      "metadata": {
        "colab": {
          "base_uri": "https://localhost:8080/"
        },
        "id": "X5nttOgnyxI2",
        "outputId": "786e8bf1-ddc5-4f1b-b04e-0a131289f526"
      },
      "execution_count": 4,
      "outputs": [
        {
          "output_type": "stream",
          "name": "stdout",
          "text": [
            "18 name\n"
          ]
        }
      ]
    },
    {
      "cell_type": "code",
      "source": [
        "type(a)"
      ],
      "metadata": {
        "colab": {
          "base_uri": "https://localhost:8080/"
        },
        "id": "Z4ES3Uhhy0Jt",
        "outputId": "bd2b7b6d-02ea-4370-e5cb-e5b5cf2ee740"
      },
      "execution_count": 5,
      "outputs": [
        {
          "output_type": "execute_result",
          "data": {
            "text/plain": [
              "int"
            ]
          },
          "metadata": {},
          "execution_count": 5
        }
      ]
    },
    {
      "cell_type": "code",
      "source": [
        "type(a/1.0)"
      ],
      "metadata": {
        "colab": {
          "base_uri": "https://localhost:8080/"
        },
        "id": "A5_qUMV3y3wa",
        "outputId": "26160fa3-d08c-45f8-e5d3-fc1d1fa3cb48"
      },
      "execution_count": 6,
      "outputs": [
        {
          "output_type": "execute_result",
          "data": {
            "text/plain": [
              "float"
            ]
          },
          "metadata": {},
          "execution_count": 6
        }
      ]
    },
    {
      "cell_type": "code",
      "source": [
        "l=a<c\n",
        "print(l)\n",
        "type(l)"
      ],
      "metadata": {
        "colab": {
          "base_uri": "https://localhost:8080/"
        },
        "id": "KgrRT2igy8sg",
        "outputId": "fb0950fd-f926-4a03-dd2c-70cb54151cd3"
      },
      "execution_count": 7,
      "outputs": [
        {
          "output_type": "stream",
          "name": "stdout",
          "text": [
            "False\n"
          ]
        },
        {
          "output_type": "execute_result",
          "data": {
            "text/plain": [
              "bool"
            ]
          },
          "metadata": {},
          "execution_count": 7
        }
      ]
    },
    {
      "cell_type": "markdown",
      "source": [
        "we can alsp do \n",
        "\n",
        "==\n",
        "\n",
        "\n",
        "<=\n",
        "\n",
        "\n",
        "!=\n",
        "\n",
        " ( >=)"
      ],
      "metadata": {
        "id": "pQPzQ3RQzM8K"
      }
    },
    {
      "cell_type": "code",
      "source": [
        " print(a/5) # / this will give up a fully divisible. \n",
        "print(type(a/5))"
      ],
      "metadata": {
        "colab": {
          "base_uri": "https://localhost:8080/"
        },
        "id": "zQ-lYli4zJ9c",
        "outputId": "be22e100-a2be-475b-d041-5afd2f651838"
      },
      "execution_count": 9,
      "outputs": [
        {
          "output_type": "stream",
          "name": "stdout",
          "text": [
            "3.6\n",
            "<class 'float'>\n"
          ]
        }
      ]
    },
    {
      "cell_type": "code",
      "source": [
        "print(a//5)  # // this will give partial divisible value\n",
        "print(type(a//5))"
      ],
      "metadata": {
        "colab": {
          "base_uri": "https://localhost:8080/"
        },
        "id": "qLdZITgy0c7k",
        "outputId": "5967ea53-62f1-4515-84fd-432b1f4b263b"
      },
      "execution_count": 10,
      "outputs": [
        {
          "output_type": "stream",
          "name": "stdout",
          "text": [
            "3\n",
            "<class 'int'>\n"
          ]
        }
      ]
    },
    {
      "cell_type": "code",
      "source": [
        "a*2\n",
        "print(a*2)# this will do multiplication\n",
        "\n",
        "print(a**2)# this will do exponential"
      ],
      "metadata": {
        "colab": {
          "base_uri": "https://localhost:8080/"
        },
        "id": "-XVcGHH80yJn",
        "outputId": "f45948fb-b75d-4f96-cac8-29a4c6cebf86"
      },
      "execution_count": 11,
      "outputs": [
        {
          "output_type": "stream",
          "name": "stdout",
          "text": [
            "36\n",
            "324\n"
          ]
        }
      ]
    },
    {
      "cell_type": "markdown",
      "source": [
        "#Condition"
      ],
      "metadata": {
        "id": "mN7BHZRu1ngD"
      }
    },
    {
      "cell_type": "code",
      "source": [
        "age=18\n",
        "if age < 18:\n",
        "  print('balik')\n",
        "else:\n",
        "  print('nabalik')  "
      ],
      "metadata": {
        "colab": {
          "base_uri": "https://localhost:8080/"
        },
        "id": "uYSvwrSs1Ene",
        "outputId": "c00f86b2-dfd1-42ee-a9c0-d59d1bc47eae"
      },
      "execution_count": 14,
      "outputs": [
        {
          "output_type": "stream",
          "name": "stdout",
          "text": [
            "nabalik\n"
          ]
        }
      ]
    },
    {
      "cell_type": "code",
      "source": [
        "age=18\n",
        "if age < 18:\n",
        "  print('balik')\n",
        "elif age == 18:\n",
        "  print('18') \n",
        "else:\n",
        "  print('nabalik')  "
      ],
      "metadata": {
        "colab": {
          "base_uri": "https://localhost:8080/"
        },
        "id": "jd-T-3Cb16sx",
        "outputId": "54299d72-7189-42cd-cab9-25c5ba85ca6f"
      },
      "execution_count": 16,
      "outputs": [
        {
          "output_type": "stream",
          "name": "stdout",
          "text": [
            "18\n"
          ]
        }
      ]
    },
    {
      "cell_type": "markdown",
      "source": [
        "## we can also do nested if else{\n",
        "  if:\n",
        "    \n",
        "        if:\n",
        "        \n",
        "            else:\n",
        "\n",
        "\n",
        "                #something like that"
      ],
      "metadata": {
        "id": "f0RsLvAK2hNc"
      }
    },
    {
      "cell_type": "markdown",
      "source": [
        "#Loops\n",
        "\n",
        "for\n",
        "\n",
        "range(end)======>[0,end)\n",
        "\n",
        "range(start,end)====>[start,end)\n",
        "\n",
        "range(start,end,step)==>[start,end,steps)\n",
        "\n",
        "while"
      ],
      "metadata": {
        "id": "WyQUNfkA3vu4"
      }
    },
    {
      "cell_type": "code",
      "source": [
        "print(1)\n",
        "print(2)\n",
        "print(3)\n",
        "print(4)\n",
        "print(5)\n",
        "print(6)\n",
        "print(7)"
      ],
      "metadata": {
        "colab": {
          "base_uri": "https://localhost:8080/"
        },
        "id": "QbHImogs2T2B",
        "outputId": "ad84fa7b-e6e1-4b8b-cf6f-f344364b7e32"
      },
      "execution_count": 17,
      "outputs": [
        {
          "output_type": "stream",
          "name": "stdout",
          "text": [
            "1\n",
            "2\n",
            "3\n",
            "4\n",
            "5\n",
            "6\n",
            "7\n"
          ]
        }
      ]
    },
    {
      "cell_type": "markdown",
      "source": [
        "or we can do this by using loops by this\n"
      ],
      "metadata": {
        "id": "atp46wom38o9"
      }
    },
    {
      "cell_type": "code",
      "source": [
        "a=8\n",
        "for i in range(1,a):##(start,end+1)\n",
        "                    ##we can aslo give start,end+1,endentation(gap/steps))\n",
        "  print(i)"
      ],
      "metadata": {
        "colab": {
          "base_uri": "https://localhost:8080/"
        },
        "id": "62YJUFjN36vB",
        "outputId": "4dc03aef-55a0-4520-eca0-9e36b710d7ac"
      },
      "execution_count": 22,
      "outputs": [
        {
          "output_type": "stream",
          "name": "stdout",
          "text": [
            "1\n",
            "2\n",
            "3\n",
            "4\n",
            "5\n",
            "6\n",
            "7\n"
          ]
        }
      ]
    },
    {
      "cell_type": "code",
      "source": [
        "#skip printing multiples of 3\n",
        "for i in range(19):\n",
        "  if i%3==0:\n",
        "    continue#pass\n",
        "  else:\n",
        "    print(i)  "
      ],
      "metadata": {
        "colab": {
          "base_uri": "https://localhost:8080/"
        },
        "id": "Rebqa7uD6M9Q",
        "outputId": "bd503401-2336-4c9c-a819-0919e82e88ad"
      },
      "execution_count": 25,
      "outputs": [
        {
          "output_type": "stream",
          "name": "stdout",
          "text": [
            "1\n",
            "2\n",
            "4\n",
            "5\n",
            "7\n",
            "8\n",
            "10\n",
            "11\n",
            "13\n",
            "14\n",
            "16\n",
            "17\n"
          ]
        }
      ]
    },
    {
      "cell_type": "code",
      "source": [
        "#for stop at multiple of 3\n",
        "for i in range(1,19):\n",
        "  if i%3 == 0:\n",
        "    break\n",
        "  else:\n",
        "    print(i)  "
      ],
      "metadata": {
        "colab": {
          "base_uri": "https://localhost:8080/"
        },
        "id": "wgXtsUzc6yEf",
        "outputId": "08860b75-9b68-4027-ddb5-6cc22556a24d"
      },
      "execution_count": 30,
      "outputs": [
        {
          "output_type": "stream",
          "name": "stdout",
          "text": [
            "1\n",
            "2\n"
          ]
        }
      ]
    },
    {
      "cell_type": "markdown",
      "source": [
        "### for deleting a variable which was in the memory is by \n",
        " \n",
        " del variable_name (this syntax)"
      ],
      "metadata": {
        "id": "cdrjnBcy9WJP"
      }
    },
    {
      "cell_type": "code",
      "source": [
        "i=1\n",
        "while i< a:\n",
        "  print(i)\n",
        "  i=i+1# i+=1"
      ],
      "metadata": {
        "colab": {
          "base_uri": "https://localhost:8080/"
        },
        "id": "b8N1qSTl4Qjo",
        "outputId": "18fc4f45-0260-46b5-b66b-bad011a9b2a2"
      },
      "execution_count": 32,
      "outputs": [
        {
          "output_type": "stream",
          "name": "stdout",
          "text": [
            "1\n",
            "2\n",
            "3\n",
            "4\n",
            "5\n",
            "6\n",
            "7\n"
          ]
        }
      ]
    },
    {
      "cell_type": "markdown",
      "source": [
        "##String"
      ],
      "metadata": {
        "id": "X1If1_WcAmKn"
      }
    },
    {
      "cell_type": "code",
      "source": [
        "a='name'\n",
        "print(a)\n",
        "print(type(a))"
      ],
      "metadata": {
        "colab": {
          "base_uri": "https://localhost:8080/"
        },
        "id": "nfOw69N65VYw",
        "outputId": "d60567ae-f0fd-4a64-cbe4-85e8e4df829b"
      },
      "execution_count": 33,
      "outputs": [
        {
          "output_type": "stream",
          "name": "stdout",
          "text": [
            "name\n",
            "<class 'str'>\n"
          ]
        }
      ]
    },
    {
      "cell_type": "code",
      "source": [
        "a='''hi how are\n",
        "you i am \n",
        "fine'''\n",
        "print(a)  #triple courts use for multi line string"
      ],
      "metadata": {
        "colab": {
          "base_uri": "https://localhost:8080/"
        },
        "id": "t4aKhfduAuxq",
        "outputId": "23574c32-1f67-4f93-956b-2678f0c4d4fd"
      },
      "execution_count": 34,
      "outputs": [
        {
          "output_type": "stream",
          "name": "stdout",
          "text": [
            "hi how are\n",
            "you i am \n",
            "fine\n"
          ]
        }
      ]
    },
    {
      "cell_type": "code",
      "source": [
        "a=\"name'a\""
      ],
      "metadata": {
        "id": "SLR30MTUA3dj"
      },
      "execution_count": 35,
      "outputs": []
    },
    {
      "cell_type": "code",
      "source": [
        "print(a)"
      ],
      "metadata": {
        "colab": {
          "base_uri": "https://localhost:8080/"
        },
        "id": "AgAHOrxkBLEU",
        "outputId": "c230311e-855b-4487-ff11-7a025e2ea1a4"
      },
      "execution_count": 36,
      "outputs": [
        {
          "output_type": "stream",
          "name": "stdout",
          "text": [
            "name'a\n"
          ]
        }
      ]
    },
    {
      "cell_type": "code",
      "source": [
        "a='name\"a'"
      ],
      "metadata": {
        "id": "NdluXaxjBMnv"
      },
      "execution_count": 37,
      "outputs": []
    },
    {
      "cell_type": "code",
      "source": [
        "print(a)"
      ],
      "metadata": {
        "colab": {
          "base_uri": "https://localhost:8080/"
        },
        "id": "nt1I4bfDBO0l",
        "outputId": "a9711591-b13f-419f-afbc-bb734af9815a"
      },
      "execution_count": 38,
      "outputs": [
        {
          "output_type": "stream",
          "name": "stdout",
          "text": [
            "name\"a\n"
          ]
        }
      ]
    },
    {
      "cell_type": "code",
      "source": [
        "a=\"\"\"name\"a'a\"\"\"\n",
        "print(a)"
      ],
      "metadata": {
        "colab": {
          "base_uri": "https://localhost:8080/"
        },
        "id": "rpXPxdH4BQge",
        "outputId": "d7fc9075-0a92-40ed-c615-6bb677a16c7c"
      },
      "execution_count": 40,
      "outputs": [
        {
          "output_type": "stream",
          "name": "stdout",
          "text": [
            "name\"a'a\n"
          ]
        }
      ]
    },
    {
      "cell_type": "code",
      "source": [
        "a=\"name\\\"a'a\"\n",
        "print(a)"
      ],
      "metadata": {
        "colab": {
          "base_uri": "https://localhost:8080/"
        },
        "id": "BtvxMPiNBWQQ",
        "outputId": "14abd083-2840-4601-8aa0-761f58f789e6"
      },
      "execution_count": 41,
      "outputs": [
        {
          "output_type": "stream",
          "name": "stdout",
          "text": [
            "name\"a'a\n"
          ]
        }
      ]
    },
    {
      "cell_type": "code",
      "source": [
        "print(a[2])#it also support negative indexing like -1,-2 etc"
      ],
      "metadata": {
        "colab": {
          "base_uri": "https://localhost:8080/"
        },
        "id": "cAggWeWDBgvk",
        "outputId": "fb588ddb-1b1d-479f-f857-52a5724e3ddd"
      },
      "execution_count": 42,
      "outputs": [
        {
          "output_type": "stream",
          "name": "stdout",
          "text": [
            "m\n"
          ]
        }
      ]
    },
    {
      "cell_type": "code",
      "source": [
        "print(a[1:5]) #[start,end)#same as range"
      ],
      "metadata": {
        "colab": {
          "base_uri": "https://localhost:8080/"
        },
        "id": "sLlqRcvCCEqK",
        "outputId": "f0fee903-f374-455a-ff27-593a017502d1"
      },
      "execution_count": 44,
      "outputs": [
        {
          "output_type": "stream",
          "name": "stdout",
          "text": [
            "ame\"\n"
          ]
        }
      ]
    },
    {
      "cell_type": "code",
      "source": [
        "print(a[5:1:-1])"
      ],
      "metadata": {
        "colab": {
          "base_uri": "https://localhost:8080/"
        },
        "id": "t-VD9roPCv-2",
        "outputId": "5998b519-159e-4677-becb-db8656583684"
      },
      "execution_count": 47,
      "outputs": [
        {
          "output_type": "stream",
          "name": "stdout",
          "text": [
            "a\"em\n"
          ]
        }
      ]
    },
    {
      "cell_type": "code",
      "source": [
        "print(a[:])"
      ],
      "metadata": {
        "colab": {
          "base_uri": "https://localhost:8080/"
        },
        "id": "79mKI26zDE8s",
        "outputId": "a7d7aad7-48f9-455a-91a8-4e8e174cdf7b"
      },
      "execution_count": 48,
      "outputs": [
        {
          "output_type": "stream",
          "name": "stdout",
          "text": [
            "name\"a'a\n"
          ]
        }
      ]
    },
    {
      "cell_type": "code",
      "source": [
        "print(a[: :-1])"
      ],
      "metadata": {
        "colab": {
          "base_uri": "https://localhost:8080/"
        },
        "id": "yDlHq5DrDYNl",
        "outputId": "a6cef897-fec5-4b1a-9885-2f7ad0e07a9c"
      },
      "execution_count": 49,
      "outputs": [
        {
          "output_type": "stream",
          "name": "stdout",
          "text": [
            "a'a\"eman\n"
          ]
        }
      ]
    },
    {
      "cell_type": "markdown",
      "source": [
        "##strint re assignment is not possible because it is immutable"
      ],
      "metadata": {
        "id": "rSpCLyr9De9G"
      }
    },
    {
      "cell_type": "code",
      "source": [
        ""
      ],
      "metadata": {
        "id": "JBQseSd4DcDz"
      },
      "execution_count": null,
      "outputs": []
    }
  ]
}