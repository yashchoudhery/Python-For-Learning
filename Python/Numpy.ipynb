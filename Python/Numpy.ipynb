{
  "nbformat": 4,
  "nbformat_minor": 0,
  "metadata": {
    "colab": {
      "name": "Numpy.ipynb",
      "provenance": [],
      "authorship_tag": "ABX9TyOQhGLHwGznqo59wzVE5sch",
      "include_colab_link": true
    },
    "kernelspec": {
      "name": "python3",
      "display_name": "Python 3"
    },
    "language_info": {
      "name": "python"
    }
  },
  "cells": [
    {
      "cell_type": "markdown",
      "metadata": {
        "id": "view-in-github",
        "colab_type": "text"
      },
      "source": [
        "<a href=\"https://colab.research.google.com/github/yashchoudhery/Python-For-Learning/blob/main/Python/Numpy.ipynb\" target=\"_parent\"><img src=\"https://colab.research.google.com/assets/colab-badge.svg\" alt=\"Open In Colab\"/></a>"
      ]
    },
    {
      "cell_type": "markdown",
      "source": [
        "#Split Concatinate\n"
      ],
      "metadata": {
        "id": "yGS3R8SfefUb"
      }
    },
    {
      "cell_type": "markdown",
      "source": [
        "#Importing numpy library"
      ],
      "metadata": {
        "id": "92Q2QF9hDLbK"
      }
    },
    {
      "cell_type": "code",
      "execution_count": null,
      "metadata": {
        "id": "ugWxUDemeXI6"
      },
      "outputs": [],
      "source": [
        "import numpy as np\n"
      ]
    },
    {
      "cell_type": "markdown",
      "source": [
        "##Making an Numpy array using a-range(arange)\n"
      ],
      "metadata": {
        "id": "2Rwh3rBSDRRy"
      }
    },
    {
      "cell_type": "code",
      "source": [
        " ar=np.arange(10)\n",
        " ar"
      ],
      "metadata": {
        "colab": {
          "base_uri": "https://localhost:8080/"
        },
        "id": "fKFOzuYxChtk",
        "outputId": "99474102-a3f6-46f3-ce9c-98d1094e054a"
      },
      "execution_count": null,
      "outputs": [
        {
          "output_type": "execute_result",
          "data": {
            "text/plain": [
              "array([0, 1, 2, 3, 4, 5, 6, 7, 8, 9])"
            ]
          },
          "metadata": {},
          "execution_count": 3
        }
      ]
    },
    {
      "cell_type": "markdown",
      "source": [
        "###Generating random permutation of an array"
      ],
      "metadata": {
        "id": "4zy2CJL7DdCS"
      }
    },
    {
      "cell_type": "code",
      "source": [
        "a=np.random.permutation(np.arange(5))\n",
        "b=np.random.permutation(np.arange(5))\n",
        "print(a)\n",
        "print(b)"
      ],
      "metadata": {
        "colab": {
          "base_uri": "https://localhost:8080/"
        },
        "id": "lPfRq9pXCxSp",
        "outputId": "d42a9df3-b6b9-47ea-e8d6-59dc285a1e1d"
      },
      "execution_count": null,
      "outputs": [
        {
          "output_type": "stream",
          "name": "stdout",
          "text": [
            "[2 1 3 4 0]\n",
            "[2 1 4 0 3]\n"
          ]
        }
      ]
    },
    {
      "cell_type": "code",
      "source": [
        "np.concatenate([a,b,a])##Here we can pass N no of array"
      ],
      "metadata": {
        "colab": {
          "base_uri": "https://localhost:8080/"
        },
        "id": "cg6H-w6vEbRx",
        "outputId": "aac003e9-a085-472c-e4d9-abdd25a23664"
      },
      "execution_count": null,
      "outputs": [
        {
          "output_type": "execute_result",
          "data": {
            "text/plain": [
              "array([3, 4, 0, 1, 2, 2, 4, 3, 1, 0, 3, 4, 0, 1, 2])"
            ]
          },
          "metadata": {},
          "execution_count": 7
        }
      ]
    },
    {
      "cell_type": "markdown",
      "source": [
        "##Checked for 2D and 3D"
      ],
      "metadata": {
        "id": "A3Ty89IEeeGl"
      }
    },
    {
      "cell_type": "code",
      "source": [
        "a=np.array([\n",
        "            [1,2,3],\n",
        "            [4,5,6]\n",
        "\n",
        "])"
      ],
      "metadata": {
        "id": "LwWb49avS3_7"
      },
      "execution_count": null,
      "outputs": []
    },
    {
      "cell_type": "code",
      "source": [
        "b=np.array([\n",
        "            [7,8,9],\n",
        "            [10,11,12]\n",
        "\n",
        "])"
      ],
      "metadata": {
        "id": "yFwrn9fjTGQf"
      },
      "execution_count": null,
      "outputs": []
    },
    {
      "cell_type": "code",
      "source": [
        "np.concatenate([a,b])\n"
      ],
      "metadata": {
        "colab": {
          "base_uri": "https://localhost:8080/"
        },
        "id": "W_Fv2lFGTSC8",
        "outputId": "8d57d8dc-0542-4329-df80-c18017c32bed"
      },
      "execution_count": null,
      "outputs": [
        {
          "output_type": "execute_result",
          "data": {
            "text/plain": [
              "array([[ 1,  2,  3],\n",
              "       [ 4,  5,  6],\n",
              "       [ 7,  8,  9],\n",
              "       [10, 11, 12]])"
            ]
          },
          "metadata": {},
          "execution_count": 11
        }
      ]
    },
    {
      "cell_type": "markdown",
      "source": [
        "Note-> If the sizes is not uniform the it will show error\n"
      ],
      "metadata": {
        "id": "UFJBCqCkTs-p"
      }
    },
    {
      "cell_type": "markdown",
      "source": [
        "#by this we can able to concatinate 2 2D array with un consistent sizes in a horizontal way"
      ],
      "metadata": {
        "id": "7e9KWxOwVhxZ"
      }
    },
    {
      "cell_type": "code",
      "source": [
        "a=np.array([\n",
        "            [1,2],\n",
        "            [4,5]\n",
        "\n",
        "])\n",
        "b=np.array([\n",
        "            [7,8,9],\n",
        "            [10,11,12]\n",
        "\n",
        "])\n"
      ],
      "metadata": {
        "id": "4jkZB8_UVyne"
      },
      "execution_count": null,
      "outputs": []
    },
    {
      "cell_type": "code",
      "source": [
        "np.hstack([a,b])"
      ],
      "metadata": {
        "colab": {
          "base_uri": "https://localhost:8080/"
        },
        "id": "PBEdrhFcTUt7",
        "outputId": "0f5df010-60b4-417d-d084-f51830ac124f"
      },
      "execution_count": null,
      "outputs": [
        {
          "output_type": "execute_result",
          "data": {
            "text/plain": [
              "array([[ 1,  2,  7,  8,  9],\n",
              "       [ 4,  5, 10, 11, 12]])"
            ]
          },
          "metadata": {},
          "execution_count": 14
        }
      ]
    },
    {
      "cell_type": "markdown",
      "source": [
        "##By this we can continate in Vertical 2D Array"
      ],
      "metadata": {
        "id": "1j97VaxaWJsm"
      }
    },
    {
      "cell_type": "code",
      "source": [
        "np.vstack([a,b])"
      ],
      "metadata": {
        "colab": {
          "base_uri": "https://localhost:8080/"
        },
        "id": "-3EPjYlYWIXR",
        "outputId": "3f931528-2c9a-4b30-d4a0-9b3e9bd4316f"
      },
      "execution_count": null,
      "outputs": [
        {
          "output_type": "execute_result",
          "data": {
            "text/plain": [
              "array([[ 1,  2,  3],\n",
              "       [ 4,  5,  6],\n",
              "       [ 7,  8,  9],\n",
              "       [10, 11, 12]])"
            ]
          },
          "metadata": {},
          "execution_count": 18
        }
      ]
    },
    {
      "cell_type": "markdown",
      "source": [
        "**this is only done when a and b bth 2D array are of same row and coloumn otherwise it will show error**"
      ],
      "metadata": {
        "id": "q2_WQkr9WlyI"
      }
    },
    {
      "cell_type": "markdown",
      "source": [
        "**there is one more stack which extent in 3 dimentional  that is np.Dstack([name of arrays ])   \n",
        "** Here in the below"
      ],
      "metadata": {
        "id": "uszEXERMXNf-"
      }
    },
    {
      "cell_type": "code",
      "source": [
        "np.dstack([a,b])"
      ],
      "metadata": {
        "colab": {
          "base_uri": "https://localhost:8080/"
        },
        "id": "otRexAyKYVMQ",
        "outputId": "6085b27b-632b-49ea-f3a6-728e4ebc6c68"
      },
      "execution_count": null,
      "outputs": [
        {
          "output_type": "execute_result",
          "data": {
            "text/plain": [
              "array([[[ 1,  7],\n",
              "        [ 2,  8],\n",
              "        [ 3,  9]],\n",
              "\n",
              "       [[ 4, 10],\n",
              "        [ 5, 11],\n",
              "        [ 6, 12]]])"
            ]
          },
          "metadata": {},
          "execution_count": 19
        }
      ]
    },
    {
      "cell_type": "code",
      "source": [
        "a=np.array([1,2,3,4])\n",
        "b=np.array([5,6,7,8])"
      ],
      "metadata": {
        "id": "h-4pVpX-bCkP"
      },
      "execution_count": null,
      "outputs": []
    },
    {
      "cell_type": "code",
      "source": [
        "np.hstack([a,b])"
      ],
      "metadata": {
        "colab": {
          "base_uri": "https://localhost:8080/"
        },
        "id": "H-iPYFO0bTln",
        "outputId": "9bebc05c-7448-4e24-d4e1-5eac69e08eb6"
      },
      "execution_count": null,
      "outputs": [
        {
          "output_type": "execute_result",
          "data": {
            "text/plain": [
              "array([1, 2, 3, 4, 5, 6, 7, 8])"
            ]
          },
          "metadata": {},
          "execution_count": 23
        }
      ]
    },
    {
      "cell_type": "code",
      "source": [
        "np.vstack([a,b])"
      ],
      "metadata": {
        "colab": {
          "base_uri": "https://localhost:8080/"
        },
        "id": "t49AAmoSbZ_H",
        "outputId": "fe4e392e-46ab-46e1-ced6-ecab9c100c19"
      },
      "execution_count": null,
      "outputs": [
        {
          "output_type": "execute_result",
          "data": {
            "text/plain": [
              "array([[1, 2, 3, 4],\n",
              "       [5, 6, 7, 8]])"
            ]
          },
          "metadata": {},
          "execution_count": 24
        }
      ]
    },
    {
      "cell_type": "code",
      "source": [
        "np.dstack([a,b])"
      ],
      "metadata": {
        "colab": {
          "base_uri": "https://localhost:8080/"
        },
        "id": "skU9ogIgbhoh",
        "outputId": "8fd06bd0-cd41-4cd7-ee92-41ea1902b692"
      },
      "execution_count": null,
      "outputs": [
        {
          "output_type": "execute_result",
          "data": {
            "text/plain": [
              "array([[[1, 5],\n",
              "        [2, 6],\n",
              "        [3, 7],\n",
              "        [4, 8]]])"
            ]
          },
          "metadata": {},
          "execution_count": 25
        }
      ]
    },
    {
      "cell_type": "code",
      "source": [
        "np.dstack([a,b]).shape## it will give the dimention of the array"
      ],
      "metadata": {
        "colab": {
          "base_uri": "https://localhost:8080/"
        },
        "id": "iHQsDgMpbqjx",
        "outputId": "7d91856f-a9f2-4aee-9f97-d64b4c7de055"
      },
      "execution_count": null,
      "outputs": [
        {
          "output_type": "execute_result",
          "data": {
            "text/plain": [
              "(1, 4, 2)"
            ]
          },
          "metadata": {},
          "execution_count": 26
        }
      ]
    },
    {
      "cell_type": "code",
      "source": [
        "a=np.array([\n",
        "            [1,2,3],\n",
        "            [4,5,6]\n",
        "\n",
        "])\n",
        "b=np.array([\n",
        "            [7,8,9],\n",
        "            [10,11,12]\n",
        "\n",
        "])"
      ],
      "metadata": {
        "id": "UXKYEY_bcTMj"
      },
      "execution_count": null,
      "outputs": []
    },
    {
      "cell_type": "code",
      "source": [
        "np.vstack([a,b])"
      ],
      "metadata": {
        "colab": {
          "base_uri": "https://localhost:8080/"
        },
        "id": "xmUJgzjWcEWF",
        "outputId": "476839e3-c8a8-4da7-80cc-e78aed572d37"
      },
      "execution_count": null,
      "outputs": [
        {
          "output_type": "execute_result",
          "data": {
            "text/plain": [
              "array([[ 1,  2,  3],\n",
              "       [ 4,  5,  6],\n",
              "       [ 7,  8,  9],\n",
              "       [10, 11, 12]])"
            ]
          },
          "metadata": {},
          "execution_count": 32
        }
      ]
    },
    {
      "cell_type": "code",
      "source": [
        "np.concatenate([a,b],axis=1)##this is same as h stack"
      ],
      "metadata": {
        "colab": {
          "base_uri": "https://localhost:8080/"
        },
        "id": "c0kMaJyRcP7R",
        "outputId": "ffc0179c-5fc0-45a0-fd9e-ae29b9a48d6f"
      },
      "execution_count": null,
      "outputs": [
        {
          "output_type": "execute_result",
          "data": {
            "text/plain": [
              "array([[ 1,  2,  3,  7,  8,  9],\n",
              "       [ 4,  5,  6, 10, 11, 12]])"
            ]
          },
          "metadata": {},
          "execution_count": 35
        }
      ]
    },
    {
      "cell_type": "code",
      "source": [
        "np.concatenate([a,b],axis=0)##while axis is zero then it is same as vstack"
      ],
      "metadata": {
        "id": "3wtqSVIpcwOq"
      },
      "execution_count": null,
      "outputs": []
    },
    {
      "cell_type": "markdown",
      "source": [
        "**the use of axis is only on 2D array** "
      ],
      "metadata": {
        "id": "CE5Q2_QXdAx1"
      }
    },
    {
      "cell_type": "code",
      "source": [
        "ar=np.array([1,2,3,4])\n",
        "np.append(ar,8)"
      ],
      "metadata": {
        "colab": {
          "base_uri": "https://localhost:8080/"
        },
        "id": "i94eQg8HdWPF",
        "outputId": "40f52636-d17b-45fe-c6f6-fa3aed6a0d86"
      },
      "execution_count": null,
      "outputs": [
        {
          "output_type": "execute_result",
          "data": {
            "text/plain": [
              "array([1, 2, 3, 4, 8])"
            ]
          },
          "metadata": {},
          "execution_count": 36
        }
      ]
    },
    {
      "cell_type": "code",
      "source": [
        "ar\n"
      ],
      "metadata": {
        "colab": {
          "base_uri": "https://localhost:8080/"
        },
        "id": "33e_ZFlrdkWs",
        "outputId": "e59de77a-d9cf-4f89-df6f-ac172654b39a"
      },
      "execution_count": null,
      "outputs": [
        {
          "output_type": "execute_result",
          "data": {
            "text/plain": [
              "array([1, 2, 3, 4])"
            ]
          },
          "metadata": {},
          "execution_count": 37
        }
      ]
    },
    {
      "cell_type": "markdown",
      "source": [
        "by this we get that the above one in the append function 8 will be added in anew array else\n",
        "ar havent getv any changes"
      ],
      "metadata": {
        "id": "tClr1hJmdmf6"
      }
    },
    {
      "cell_type": "code",
      "source": [
        "np.append(ar,([1,2,7,7]))"
      ],
      "metadata": {
        "colab": {
          "base_uri": "https://localhost:8080/"
        },
        "id": "VFIkMiald0vV",
        "outputId": "10e5978c-739d-4c36-d811-df26a24a8fa1"
      },
      "execution_count": null,
      "outputs": [
        {
          "output_type": "execute_result",
          "data": {
            "text/plain": [
              "array([1, 2, 3, 4, 1, 2, 7, 7])"
            ]
          },
          "metadata": {},
          "execution_count": 38
        }
      ]
    },
    {
      "cell_type": "code",
      "source": [
        "np.append(ar,np.array([1,2,7,7]))"
      ],
      "metadata": {
        "colab": {
          "base_uri": "https://localhost:8080/"
        },
        "id": "HSIWR5AQe0c0",
        "outputId": "941869f1-4632-4808-d01c-bc5fc95876c8"
      },
      "execution_count": null,
      "outputs": [
        {
          "output_type": "execute_result",
          "data": {
            "text/plain": [
              "array([1, 2, 3, 4, 1, 2, 7, 7])"
            ]
          },
          "metadata": {},
          "execution_count": 39
        }
      ]
    },
    {
      "cell_type": "markdown",
      "source": [
        "we can also append the list or a  new array and form a new array"
      ],
      "metadata": {
        "id": "YAmME2uWepH4"
      }
    },
    {
      "cell_type": "code",
      "source": [
        "#Max dimention array can be"
      ],
      "metadata": {
        "id": "Eq6GBCrJfOFr"
      },
      "execution_count": null,
      "outputs": []
    },
    {
      "cell_type": "markdown",
      "source": [
        "##Max dimention array can be formed is 32 D"
      ],
      "metadata": {
        "id": "AXJL9iz0fMoZ"
      }
    },
    {
      "cell_type": "code",
      "source": [
        "l=[1]*32\n",
        "\n",
        "t=tuple(l)\n"
      ],
      "metadata": {
        "id": "Z2VvdP6recoI"
      },
      "execution_count": null,
      "outputs": []
    },
    {
      "cell_type": "code",
      "source": [
        "np.ones(l)"
      ],
      "metadata": {
        "colab": {
          "base_uri": "https://localhost:8080/"
        },
        "id": "ZYzBdx8AgNwD",
        "outputId": "42af9099-8a21-48fd-8da4-5cc71a56c49b"
      },
      "execution_count": null,
      "outputs": [
        {
          "output_type": "execute_result",
          "data": {
            "text/plain": [
              "array([[[[[[[[[[[[[[[[[[[[[[[[[[[[[[[[1.]]]]]]]]]]]]]]]]]]]]]]]]]]]]]]]])"
            ]
          },
          "metadata": {},
          "execution_count": 52
        }
      ]
    },
    {
      "cell_type": "markdown",
      "source": [
        "the above is the 32 dimention array"
      ],
      "metadata": {
        "id": "QBWuNZ42gjIk"
      }
    },
    {
      "cell_type": "code",
      "source": [
        "np.ones(l).shape"
      ],
      "metadata": {
        "colab": {
          "base_uri": "https://localhost:8080/"
        },
        "id": "KAQF3KxXgvF1",
        "outputId": "4038026c-1ec7-4ebc-cb67-7bab5bdf2a95"
      },
      "execution_count": null,
      "outputs": [
        {
          "output_type": "execute_result",
          "data": {
            "text/plain": [
              "(1,\n",
              " 1,\n",
              " 1,\n",
              " 1,\n",
              " 1,\n",
              " 1,\n",
              " 1,\n",
              " 1,\n",
              " 1,\n",
              " 1,\n",
              " 1,\n",
              " 1,\n",
              " 1,\n",
              " 1,\n",
              " 1,\n",
              " 1,\n",
              " 1,\n",
              " 1,\n",
              " 1,\n",
              " 1,\n",
              " 1,\n",
              " 1,\n",
              " 1,\n",
              " 1,\n",
              " 1,\n",
              " 1,\n",
              " 1,\n",
              " 1,\n",
              " 1,\n",
              " 1,\n",
              " 1,\n",
              " 1)"
            ]
          },
          "metadata": {},
          "execution_count": 53
        }
      ]
    },
    {
      "cell_type": "markdown",
      "source": [
        "#split"
      ],
      "metadata": {
        "id": "o4KeFKsLikP1"
      }
    },
    {
      "cell_type": "code",
      "source": [
        "ar=np.arange(10)\n",
        "ar"
      ],
      "metadata": {
        "colab": {
          "base_uri": "https://localhost:8080/"
        },
        "id": "Rai-5YDMiiCr",
        "outputId": "10ea2196-22ce-48e0-9fa6-46ecf08784ad"
      },
      "execution_count": null,
      "outputs": [
        {
          "output_type": "execute_result",
          "data": {
            "text/plain": [
              "array([0, 1, 2, 3, 4, 5, 6, 7, 8, 9])"
            ]
          },
          "metadata": {},
          "execution_count": 55
        }
      ]
    },
    {
      "cell_type": "code",
      "source": [
        "np.split(ar,[4,7,9,1])"
      ],
      "metadata": {
        "colab": {
          "base_uri": "https://localhost:8080/"
        },
        "id": "7gRoIXQ5iu-o",
        "outputId": "e4a86b9a-df1d-4a2b-f5a9-58cfc2300088"
      },
      "execution_count": null,
      "outputs": [
        {
          "output_type": "execute_result",
          "data": {
            "text/plain": [
              "[array([0, 1, 2, 3]),\n",
              " array([4, 5, 6]),\n",
              " array([7, 8]),\n",
              " array([], dtype=int64),\n",
              " array([1, 2, 3, 4, 5, 6, 7, 8, 9])]"
            ]
          },
          "metadata": {},
          "execution_count": 59
        }
      ]
    },
    {
      "cell_type": "code",
      "source": [
        "ar[2:5]##range use\n"
      ],
      "metadata": {
        "colab": {
          "base_uri": "https://localhost:8080/"
        },
        "id": "MclnPYJJkRqG",
        "outputId": "f245455d-07d4-4758-9c64-78cd861cbb4d"
      },
      "execution_count": null,
      "outputs": [
        {
          "output_type": "execute_result",
          "data": {
            "text/plain": [
              "array([2, 3, 4])"
            ]
          },
          "metadata": {},
          "execution_count": 63
        }
      ]
    },
    {
      "cell_type": "code",
      "source": [
        "print(ar[0:])\n"
      ],
      "metadata": {
        "colab": {
          "base_uri": "https://localhost:8080/"
        },
        "id": "qPOeVE3Mkk_G",
        "outputId": "91f4ba58-d25b-4b27-df75-04d62c5e2c06"
      },
      "execution_count": null,
      "outputs": [
        {
          "output_type": "stream",
          "name": "stdout",
          "text": [
            "[0 1 2 3 4 5 6 7 8 9]\n"
          ]
        }
      ]
    }
  ]
}